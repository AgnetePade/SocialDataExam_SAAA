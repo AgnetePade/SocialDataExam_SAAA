{
 "cells": [
  {
   "cell_type": "code",
   "execution_count": 1,
   "metadata": {},
   "outputs": [
    {
     "name": "stderr",
     "output_type": "stream",
     "text": [
      "<frozen importlib._bootstrap>:228: RuntimeWarning: scipy._lib.messagestream.MessageStream size changed, may indicate binary incompatibility. Expected 56 from C header, got 64 from PyObject\n"
     ]
    }
   ],
   "source": [
    "import numpy as np\n",
    "from numpy import linalg as la\n",
    "from scipy.stats import chi2\n",
    "from tabulate import tabulate\n",
    "import LinearModels as lm\n",
    "import pandas as pd\n",
    "import matplotlib.pyplot as plt\n",
    "%load_ext autoreload\n",
    "%autoreload 2"
   ]
  },
  {
   "cell_type": "markdown",
   "metadata": {},
   "source": [
    "This code relies on the py-file \"LinearModels,\" which was created by Anders Munk Nielsen and Jesper Vestergaard from the course Advanced Microeconometrics 2022. "
   ]
  },
  {
   "cell_type": "markdown",
   "metadata": {},
   "source": [
    "# Read data"
   ]
  },
  {
   "cell_type": "code",
   "execution_count": 20,
   "metadata": {},
   "outputs": [
    {
     "name": "stdout",
     "output_type": "stream",
     "text": [
      "      Cities     Day_pre   Day_after  Treat  Concert  Weekend  \\\n",
      "0  Stockholm  2024-04-26  2024-04-29      1        0        1   \n",
      "1  Stockholm  2024-05-03  2024-05-06      1        0        1   \n",
      "2  Stockholm  2024-05-10  2024-05-13      1        0        1   \n",
      "3  Stockholm  2024-05-17  2024-05-20      1        1        1   \n",
      "4  Stockholm  2024-05-24  2024-05-27      1        0        1   \n",
      "\n",
      "   Avg_airbnb_price  t_3  t_2  t_1  ...  t1  t2  t3  Obs  Month  month_4  \\\n",
      "0              1111    1    0    0  ...   0   0   0    1      4        1   \n",
      "1              1128    0    1    0  ...   0   0   0    2      5        0   \n",
      "2              1193    0    0    1  ...   0   0   0    3      5        0   \n",
      "3              1857    0    0    0  ...   0   0   0    4      5        0   \n",
      "4              1198    0    0    0  ...   1   0   0    5      5        0   \n",
      "\n",
      "   month_5  month_6  month_7  month_8  \n",
      "0        0        0        0        0  \n",
      "1        1        0        0        0  \n",
      "2        1        0        0        0  \n",
      "3        1        0        0        0  \n",
      "4        1        0        0        0  \n",
      "\n",
      "[5 rows x 21 columns]\n"
     ]
    }
   ],
   "source": [
    "# Import data\n",
    "excel_file_path = './Eventstudydata.xlsx'\n",
    "\n",
    "# Read the second sheet (index 1) from the Excel file\n",
    "sheet_name = pd.ExcelFile(excel_file_path).sheet_names[1]\n",
    "data = pd.read_excel(excel_file_path, sheet_name, header=1)\n",
    "\n",
    "# Drop the first column\n",
    "data = data.drop(data.columns[0], axis=1)\n",
    "\n",
    "print(data.head(5))"
   ]
  },
  {
   "cell_type": "markdown",
   "metadata": {},
   "source": [
    "# Estimation 1: No fixed effects"
   ]
  },
  {
   "cell_type": "code",
   "execution_count": 3,
   "metadata": {},
   "outputs": [],
   "source": [
    "data1 = data[data['Treat'] == 1]"
   ]
  },
  {
   "cell_type": "code",
   "execution_count": 4,
   "metadata": {},
   "outputs": [
    {
     "name": "stdout",
     "output_type": "stream",
     "text": [
      "Data has N=13 and T=7\n"
     ]
    }
   ],
   "source": [
    "# Defining dimensions\n",
    "N = data1.Cities.unique().size\n",
    "T = data1.Obs.unique().size\n",
    "assert data1.shape[0] == N*T, f'Error: data is not a balanced panel'\n",
    "print(f'Data has N={N} and T={T}')"
   ]
  },
  {
   "cell_type": "code",
   "execution_count": 5,
   "metadata": {},
   "outputs": [],
   "source": [
    "# Setting up data\n",
    "y = data1.Avg_airbnb_price.values.reshape((N*T,1))\n",
    "\n",
    "ones = np.ones((N*T,1))\n",
    "t_3 = data1.t_3.values.reshape((N*T,1))\n",
    "t_2 = data1.t_2.values.reshape((N*T,1))\n",
    "t_1 = data1.t_1.values.reshape((N*T,1))\n",
    "t = data1.t.values.reshape((N*T,1))\n",
    "t1 = data1.t1.values.reshape((N*T,1))\n",
    "t2 = data1.t2.values.reshape((N*T,1))\n",
    "t3 = data1.t3.values.reshape((N*T,1))\n",
    "m4 = data1.month_4.values.reshape((N*T,1))\n",
    "m5 = data1.month_5.values.reshape((N*T,1))\n",
    "m6 = data1.month_6.values.reshape((N*T,1))\n",
    "m7 = data1.month_7.values.reshape((N*T,1))\n",
    "m8 = data1.month_8.values.reshape((N*T,1))\n",
    "\n",
    "x = np.hstack([ones,t_3,t_2,t,t1,t2,t3,m5,m6,m7,m8]) \n",
    "\n",
    "label_y = ['Average Airbnb Price']\n",
    "label_x = ['cons','t-3','t-2','t','t+1','t+2','t+3','m5','m6','m7','m8']"
   ]
  },
  {
   "cell_type": "code",
   "execution_count": 6,
   "metadata": {},
   "outputs": [
    {
     "name": "stdout",
     "output_type": "stream",
     "text": [
      "Results\n",
      "Dependent variable: ['Average Airbnb Price']\n",
      "\n",
      "           Beta       Se    t-values\n",
      "----  ---------  -------  ----------\n",
      "cons  1722.51    254.583    6.76598\n",
      "t-3    -61.2947  142.775   -0.42931\n",
      "t-2    -37.9297  136.159   -0.278569\n",
      "t      396.948   131.079    3.0283\n",
      "t+1     30.541   149.343    0.204502\n",
      "t+2    117.288   164.61     0.712517\n",
      "t+3    130.244   183.97     0.70796\n",
      "m5    -357.126   240.544   -1.48466\n",
      "m6    -448.112   258.583   -1.73295\n",
      "m7    -409.731   233.653   -1.75359\n",
      "m8    -425.452   251.01    -1.69496\n",
      "R² = 0.152\n",
      "σ² = 149643.281\n"
     ]
    }
   ],
   "source": [
    "no_fe_result = lm.estimate(y, x, '', T = T, robust = True)\n",
    "\n",
    "lm.print_table([label_y, label_x], no_fe_result)"
   ]
  },
  {
   "cell_type": "markdown",
   "metadata": {},
   "source": [
    "# Estimation 2: Fixed effects and leave out two pre-periods"
   ]
  },
  {
   "cell_type": "code",
   "execution_count": 7,
   "metadata": {},
   "outputs": [],
   "source": [
    "# Setting up data\n",
    "x = np.hstack([t_2,t,t1,t2,t3,m5,m6,m7,m8]) \n",
    "\n",
    "label_y = ['Average Airbnb Price']\n",
    "label_x = ['t-2','t','t+1','t+2','t+3','m5','m6','m7','m8']"
   ]
  },
  {
   "cell_type": "code",
   "execution_count": 8,
   "metadata": {},
   "outputs": [
    {
     "name": "stdout",
     "output_type": "stream",
     "text": [
      "Results\n",
      "Dependent variable: ['Average Airbnb Price']\n",
      "\n",
      "         Beta        Se    t-values\n",
      "---  --------  --------  ----------\n",
      "t-2  -10.2327   8.96366   -1.14157\n",
      "t    412.268   58.9395     6.99477\n",
      "t+1   42.8572  20.6157     2.07886\n",
      "t+2  126.6     53.7867     2.35375\n",
      "t+3  133.344   61.8746     2.15507\n",
      "m5    78.282   22.6971     3.44898\n",
      "m6   -15.3688  59.6466    -0.257664\n",
      "m7   -95.4097  85.8608    -1.11121\n",
      "m8   -69.4186  76.8589    -0.903194\n",
      "R² = 0.593\n",
      "σ² = 17136.396\n"
     ]
    }
   ],
   "source": [
    "# Create the transformation matrix\n",
    "def demeaning_matrix(T):\n",
    "    return np.eye(T) - np.tile(1/T,(T,T))\n",
    "    \n",
    "Q_T = demeaning_matrix(T)\n",
    "\n",
    "# Transforming data\n",
    "y_demean = lm.perm(Q_T,y)\n",
    "x_demean = lm.perm(Q_T,x)\n",
    "\n",
    "# Estimation\n",
    "fe_result_1 = lm.estimate(y_demean, x_demean, 'fe', T = T, robust = True)\n",
    "\n",
    "lm.print_table([label_y, label_x], fe_result_1)"
   ]
  },
  {
   "cell_type": "code",
   "execution_count": 9,
   "metadata": {},
   "outputs": [],
   "source": [
    "# Add two empty rows to 'b_hat', 'se', and 't_values' arrays\n",
    "fe_result_1_tab = fe_result_1\n",
    "\n",
    "empty_row = np.full((2, 1), np.nan)\n",
    "fe_result_1_tab['b_hat'] = np.vstack((empty_row, fe_result_1['b_hat']))\n",
    "fe_result_1_tab['se'] = np.vstack((empty_row, fe_result_1['se']))\n",
    "fe_result_1_tab['t_values'] = np.vstack((empty_row, fe_result_1['t_values']))"
   ]
  },
  {
   "cell_type": "markdown",
   "metadata": {},
   "source": [
    "# Estimation 3: Control group and fixed effects "
   ]
  },
  {
   "cell_type": "code",
   "execution_count": 10,
   "metadata": {},
   "outputs": [
    {
     "name": "stdout",
     "output_type": "stream",
     "text": [
      "Data has N=26 and T=7\n"
     ]
    }
   ],
   "source": [
    "# Defining dimensions\n",
    "N = data.Cities.unique().size\n",
    "T = data.Obs.unique().size\n",
    "assert data.shape[0] == N*T, f'Error: data is not a balanced panel'\n",
    "print(f'Data has N={N} and T={T}')"
   ]
  },
  {
   "cell_type": "code",
   "execution_count": 11,
   "metadata": {},
   "outputs": [],
   "source": [
    "# Setting up data\n",
    "y = data.Avg_airbnb_price.values.reshape((N*T,1))\n",
    "\n",
    "ones = np.ones((N*T,1))\n",
    "t_3 = data.t_3.values.reshape((N*T,1))\n",
    "t_2 = data.t_2.values.reshape((N*T,1))\n",
    "t_1 = data.t_1.values.reshape((N*T,1))\n",
    "t = data.t.values.reshape((N*T,1))\n",
    "t1 = data.t1.values.reshape((N*T,1))\n",
    "t2 = data.t2.values.reshape((N*T,1))\n",
    "t3 = data.t3.values.reshape((N*T,1))\n",
    "m4 = data.month_4.values.reshape((N*T,1))\n",
    "m5 = data.month_5.values.reshape((N*T,1))\n",
    "m6 = data.month_6.values.reshape((N*T,1))\n",
    "m7 = data.month_7.values.reshape((N*T,1))\n",
    "m8 = data.month_8.values.reshape((N*T,1))\n",
    "x = np.hstack([t_3,t_2,t,t1,t2,t3,m5,m6,m7,m8]) # no constant term for FE\n",
    "\n",
    "label_y = ['Average Airbnb Price']\n",
    "label_x = ['t-3','t-2','t','t+1','t+2','t+3','m5','m6','m7','m8']"
   ]
  },
  {
   "cell_type": "code",
   "execution_count": 12,
   "metadata": {},
   "outputs": [
    {
     "name": "stdout",
     "output_type": "stream",
     "text": [
      "Results\n",
      "Dependent variable: ['Average Airbnb Price']\n",
      "\n",
      "          Beta        Se    t-values\n",
      "---  ---------  --------  ----------\n",
      "t-3   -6.87189   9.55247   -0.719384\n",
      "t-2  -11.686     8.04325   -1.45289\n",
      "t    394.17     59.4036     6.63545\n",
      "t+1   19.6421   16.1363     1.21726\n",
      "t+2   98.2683   52.3837     1.87593\n",
      "t+3   99.6972   54.8283     1.81835\n",
      "m5    78.6483   15.896      4.94768\n",
      "m6    48.9428   31.6886     1.54449\n",
      "m7    17.8776   43.6779     0.409305\n",
      "m8    46.4423   36.6286     1.26792\n",
      "R² = 0.547\n",
      "σ² = 9638.178\n"
     ]
    }
   ],
   "source": [
    "# Create the transformation matrix\n",
    "def demeaning_matrix(T):\n",
    "    return np.eye(T) - np.tile(1/T,(T,T))\n",
    "    \n",
    "Q_T = demeaning_matrix(T)\n",
    "\n",
    "# Transforming data\n",
    "y_demean = lm.perm(Q_T,y)\n",
    "x_demean = lm.perm(Q_T,x)\n",
    "\n",
    "# Estimation\n",
    "fe_result_2 = lm.estimate(y_demean, x_demean, 'fe', T = T, robust = True)\n",
    "\n",
    "lm.print_table([label_y, label_x], fe_result_2)"
   ]
  },
  {
   "cell_type": "code",
   "execution_count": 13,
   "metadata": {},
   "outputs": [],
   "source": [
    "# Add two empty rows to 'b_hat', 'se', and 't_values' arrays\n",
    "fe_result_2_tab = fe_result_2\n",
    "\n",
    "empty_row = np.full((1, 1), np.nan)\n",
    "\n",
    "fe_result_2_tab['b_hat'] = np.vstack((empty_row, fe_result_2['b_hat']))\n",
    "fe_result_2_tab['se'] = np.vstack((empty_row, fe_result_2['se']))\n",
    "fe_result_2_tab['t_values'] = np.vstack((empty_row, fe_result_2['t_values']))"
   ]
  },
  {
   "cell_type": "markdown",
   "metadata": {},
   "source": [
    "# Overview of estimates and robust standard errors"
   ]
  },
  {
   "cell_type": "code",
   "execution_count": 14,
   "metadata": {},
   "outputs": [],
   "source": [
    "# Collecting all estimated parameters\n",
    "est_params = np.concatenate((no_fe_result['b_hat'],fe_result_1_tab['b_hat'],fe_result_2_tab['b_hat']), axis = 1)\n",
    "\n",
    "# Collecting all estimated std errors\n",
    "est_se = np.concatenate((no_fe_result['se'],fe_result_1_tab['se'],fe_result_2_tab['se']), axis = 1)\n",
    "\n",
    "# Setting up comparison table\n",
    "est_comp = np.row_stack((est_params[0,:], est_se[0,:], \n",
    "est_params[1,:], est_se[1,:],\n",
    "est_params[2,:], est_se[2,:], \n",
    "est_params[3,:], est_se[3,:],\n",
    "est_params[4,:], est_se[4,:], \n",
    "est_params[5,:], est_se[5,:],\n",
    "est_params[6,:], est_se[6,:],)\n",
    ")\n",
    "\n",
    "model_headers = [\"(1)\",\"(2)\",\"(3)\"]\n",
    "\n",
    "row_names = np.array([[\"cons\",\"\",\"t-3\",\"\",\"t-2\",\"\",\"t\",\"\",\"t+1\",\"\",\"t+2\",\"\",\"t+3\",\"\"]])\n",
    "\n",
    "est_comp = np.concatenate((row_names.T, est_comp), axis = 1)\n",
    "\n",
    "est_table = tabulate(est_comp, model_headers, floatfmt= '.2f')"
   ]
  },
  {
   "cell_type": "code",
   "execution_count": 15,
   "metadata": {},
   "outputs": [],
   "source": [
    "est_table = tabulate(est_comp, model_headers, floatfmt= '.2f')"
   ]
  },
  {
   "cell_type": "code",
   "execution_count": 16,
   "metadata": {},
   "outputs": [
    {
     "name": "stdout",
     "output_type": "stream",
     "text": [
      "\\begin{tabular}{cccc}\n",
      "\\hline\n",
      "      &   (1)   &  (2)   &  (3)   \\\\\n",
      "\\hline\n",
      " cons & 1722.51 &  .   &  .   \\\\\n",
      "      & 254.58  &  .   &  .   \\\\\n",
      " t-3  & -61.29  &  .   & -6.87  \\\\\n",
      "      & 142.78  &  .   &  9.55  \\\\\n",
      " t-2  & -37.93  & -10.23 & -11.69 \\\\\n",
      "      & 136.16  &  8.96  &  8.04  \\\\\n",
      "  t   & 396.95  & 412.27 & 394.17 \\\\\n",
      "      & 131.08  & 58.94  & 59.40  \\\\\n",
      " t+1  &  30.54  & 42.86  & 19.64  \\\\\n",
      "      & 149.34  & 20.62  & 16.14  \\\\\n",
      " t+2  & 117.29  & 126.60 & 98.27  \\\\\n",
      "      & 164.61  & 53.79  & 52.38  \\\\\n",
      " t+3  & 130.24  & 133.34 & 99.70  \\\\\n",
      "      & 183.97  & 61.87  & 54.83  \\\\\n",
      "\\hline\n",
      "\\end{tabular}\n"
     ]
    }
   ],
   "source": [
    "headers = [\"\", \"(1)\", \"(2)\", \"(3)\"]\n",
    "\n",
    "# Generate LaTeX code\n",
    "latex_table = tabulate(est_comp, headers=headers, tablefmt=\"latex_raw\", colalign=(\"center\", \"center\", \"center\", \"center\"),floatfmt=\".2f\")\n",
    "\n",
    "latex_table = latex_table.replace(\"nan\", \".\")\n",
    "\n",
    "print(latex_table)"
   ]
  },
  {
   "cell_type": "markdown",
   "metadata": {},
   "source": [
    "# Checking significance level of estimates"
   ]
  },
  {
   "cell_type": "code",
   "execution_count": 18,
   "metadata": {},
   "outputs": [
    {
     "name": "stdout",
     "output_type": "stream",
     "text": [
      "[[10]\n",
      " [ 0]\n",
      " [ 0]\n",
      " [10]\n",
      " [ 0]\n",
      " [ 0]\n",
      " [ 0]\n",
      " [ 0]\n",
      " [ 0]\n",
      " [ 0]\n",
      " [ 0]]\n",
      "[[ 0]\n",
      " [ 0]\n",
      " [ 0]\n",
      " [10]\n",
      " [10]\n",
      " [10]\n",
      " [10]\n",
      " [10]\n",
      " [ 0]\n",
      " [ 0]\n",
      " [ 0]]\n",
      "[[ 0]\n",
      " [ 0]\n",
      " [ 0]\n",
      " [10]\n",
      " [ 0]\n",
      " [10]\n",
      " [10]\n",
      " [10]\n",
      " [ 0]\n",
      " [ 0]\n",
      " [ 0]]\n"
     ]
    }
   ],
   "source": [
    "sig_no_fe_result = lm.significance(no_fe_result['b_hat'], no_fe_result['se'])\n",
    "print(sig_no_fe_result)\n",
    "\n",
    "sig_fe_result_1 = lm.significance(fe_result_1['b_hat'], fe_result_1['se'])\n",
    "print(sig_fe_result_1)\n",
    "\n",
    "sig_fe_result_2 = lm.significance(fe_result_2['b_hat'], fe_result_2['se'])\n",
    "print(sig_fe_result_2)"
   ]
  }
 ],
 "metadata": {
  "kernelspec": {
   "display_name": "Python 3.9.12",
   "language": "python",
   "name": "python3"
  },
  "language_info": {
   "codemirror_mode": {
    "name": "ipython",
    "version": 3
   },
   "file_extension": ".py",
   "mimetype": "text/x-python",
   "name": "python",
   "nbconvert_exporter": "python",
   "pygments_lexer": "ipython3",
   "version": "3.9.12"
  },
  "vscode": {
   "interpreter": {
    "hash": "1091f1b9584b16126d959e1e6baecccd273f82381826b825c44bca03b6114737"
   }
  }
 },
 "nbformat": 4,
 "nbformat_minor": 4
}
