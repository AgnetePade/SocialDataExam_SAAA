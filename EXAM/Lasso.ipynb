{
 "cells": [
  {
   "attachments": {},
   "cell_type": "markdown",
   "metadata": {},
   "source": [
    "# Introduction to Social Data Science\n",
    "Authors:\n",
    "\n",
    "Simon Guldager\n",
    "\n",
    "Astrid Waltenburg\n",
    "\n",
    "Amelia Asp\n",
    "\n",
    "Agnete Pade\n"
   ]
  },
  {
   "cell_type": "code",
   "execution_count": 1,
   "metadata": {},
   "outputs": [
    {
     "name": "stderr",
     "output_type": "stream",
     "text": [
      "<frozen importlib._bootstrap>:228: RuntimeWarning: scipy._lib.messagestream.MessageStream size changed, may indicate binary incompatibility. Expected 56 from C header, got 64 from PyObject\n"
     ]
    }
   ],
   "source": [
    "import pandas as pd \n",
    "import numpy as np \n",
    "from numpy import linalg as la\n",
    "import statsmodels.formula.api as smf\n",
    "import matplotlib.pyplot as plt\n",
    "\n",
    "import os \n",
    "\n",
    "from scipy.stats import norm\n",
    "from sklearn.linear_model import Lasso\n",
    "from sklearn.linear_model import LassoCV\n",
    "from sklearn.preprocessing import PolynomialFeatures"
   ]
  },
  {
   "cell_type": "code",
   "execution_count": 2,
   "metadata": {},
   "outputs": [],
   "source": [
    "figpath = r\"/Users/bruger/Desktop/Exam/Figures\"\n",
    "datapath = r\"/Users/bruger/Desktop/Exam/Data\""
   ]
  },
  {
   "cell_type": "markdown",
   "metadata": {},
   "source": [
    "This code relies on code from exam by Abrahamsen et. al (2022) for the course Advanced Microeconometrics 2022. "
   ]
  },
  {
   "cell_type": "markdown",
   "metadata": {},
   "source": [
    "## Read and prep data "
   ]
  },
  {
   "cell_type": "code",
   "execution_count": 3,
   "metadata": {},
   "outputs": [],
   "source": [
    "filename = \"data_final.csv\"\n",
    "\n",
    "# Combine the path and filename to create the complete file path\n",
    "full_filepath = f\"{datapath}/{filename}\"\n",
    "\n",
    "# Read the CSV file into a pandas DataFrame\n",
    "dat = pd.read_csv(full_filepath)"
   ]
  },
  {
   "cell_type": "code",
   "execution_count": 4,
   "metadata": {},
   "outputs": [],
   "source": [
    "# Drop observsations where price and rating is NaN\n",
    "dat = dat.dropna(subset=['price','rating'])\n",
    "# Rename danish names\n",
    "dat.rename(columns={'omtaler': 'reviews', 'gæster': 'guests', 'parkering og faciliteter': 'parking','Affordability': 'affordability','Climate':'climate','Location':'location','Sights':'sights','Safety':'safety','Shopping':'shopping'}, inplace=True)"
   ]
  },
  {
   "cell_type": "code",
   "execution_count": 5,
   "metadata": {},
   "outputs": [],
   "source": [
    "unnamed_columns = [col for col in dat.columns if 'unnamed' in col.lower()]\n",
    "\n",
    "# Drop the columns with \"unnamed\" in their names\n",
    "dat.drop(columns=unnamed_columns, inplace=True)\n",
    "\n",
    "dat = dat.fillna(0)"
   ]
  },
  {
   "cell_type": "code",
   "execution_count": 6,
   "metadata": {},
   "outputs": [
    {
     "name": "stdout",
     "output_type": "stream",
     "text": [
      "The data contains 9148 rows (aparments) and 42 columns (variables).\n"
     ]
    }
   ],
   "source": [
    "print(f'The data contains {dat.shape[0]} rows (aparments) and {dat.shape[1]} columns (variables).')"
   ]
  },
  {
   "cell_type": "code",
   "execution_count": 7,
   "metadata": {},
   "outputs": [],
   "source": [
    "# Reset index and drop irrelevant columns\n",
    "dat.reset_index(drop=True, inplace=True)\n",
    "columns_to_drop = ['date', 'city','other'] \n",
    "dat = dat.drop(columns=columns_to_drop)"
   ]
  },
  {
   "cell_type": "code",
   "execution_count": 8,
   "metadata": {},
   "outputs": [],
   "source": [
    "order = ['treat', 'price', 'guests','host','work','dishwasher','kitchen','sights','location','climate','affordability']\n",
    "dat = dat[order + [col for col in dat.columns if col not in order]]"
   ]
  },
  {
   "cell_type": "code",
   "execution_count": 9,
   "metadata": {},
   "outputs": [
    {
     "data": {
      "text/html": [
       "<div>\n",
       "<style scoped>\n",
       "    .dataframe tbody tr th:only-of-type {\n",
       "        vertical-align: middle;\n",
       "    }\n",
       "\n",
       "    .dataframe tbody tr th {\n",
       "        vertical-align: top;\n",
       "    }\n",
       "\n",
       "    .dataframe thead th {\n",
       "        text-align: right;\n",
       "    }\n",
       "</style>\n",
       "<table border=\"1\" class=\"dataframe\">\n",
       "  <thead>\n",
       "    <tr style=\"text-align: right;\">\n",
       "      <th></th>\n",
       "      <th>treat</th>\n",
       "      <th>price</th>\n",
       "      <th>guests</th>\n",
       "      <th>host</th>\n",
       "      <th>work</th>\n",
       "      <th>dishwasher</th>\n",
       "      <th>kitchen</th>\n",
       "      <th>sights</th>\n",
       "      <th>location</th>\n",
       "      <th>climate</th>\n",
       "      <th>...</th>\n",
       "      <th>blackout curtains</th>\n",
       "      <th>outdoor</th>\n",
       "      <th>mailbox</th>\n",
       "      <th>cleaning products</th>\n",
       "      <th>temperature</th>\n",
       "      <th>pool etc.</th>\n",
       "      <th>fireplace</th>\n",
       "      <th>fitness equipment</th>\n",
       "      <th>safety</th>\n",
       "      <th>shopping</th>\n",
       "    </tr>\n",
       "  </thead>\n",
       "  <tbody>\n",
       "    <tr>\n",
       "      <th>0</th>\n",
       "      <td>1</td>\n",
       "      <td>571.0</td>\n",
       "      <td>0.0</td>\n",
       "      <td>0.0</td>\n",
       "      <td>1.0</td>\n",
       "      <td>0.0</td>\n",
       "      <td>1.0</td>\n",
       "      <td>7.30</td>\n",
       "      <td>8.75</td>\n",
       "      <td>5.50</td>\n",
       "      <td>...</td>\n",
       "      <td>0.0</td>\n",
       "      <td>0.0</td>\n",
       "      <td>0.0</td>\n",
       "      <td>0.0</td>\n",
       "      <td>0.0</td>\n",
       "      <td>0.0</td>\n",
       "      <td>0.0</td>\n",
       "      <td>0.0</td>\n",
       "      <td>7.50</td>\n",
       "      <td>6.5</td>\n",
       "    </tr>\n",
       "    <tr>\n",
       "      <th>1</th>\n",
       "      <td>1</td>\n",
       "      <td>747.0</td>\n",
       "      <td>0.0</td>\n",
       "      <td>0.0</td>\n",
       "      <td>1.0</td>\n",
       "      <td>0.0</td>\n",
       "      <td>1.0</td>\n",
       "      <td>7.30</td>\n",
       "      <td>8.75</td>\n",
       "      <td>5.50</td>\n",
       "      <td>...</td>\n",
       "      <td>0.0</td>\n",
       "      <td>0.0</td>\n",
       "      <td>0.0</td>\n",
       "      <td>0.0</td>\n",
       "      <td>0.0</td>\n",
       "      <td>0.0</td>\n",
       "      <td>0.0</td>\n",
       "      <td>0.0</td>\n",
       "      <td>7.50</td>\n",
       "      <td>6.5</td>\n",
       "    </tr>\n",
       "    <tr>\n",
       "      <th>2</th>\n",
       "      <td>1</td>\n",
       "      <td>544.0</td>\n",
       "      <td>1.0</td>\n",
       "      <td>1.0</td>\n",
       "      <td>1.0</td>\n",
       "      <td>0.0</td>\n",
       "      <td>1.0</td>\n",
       "      <td>7.30</td>\n",
       "      <td>8.75</td>\n",
       "      <td>5.50</td>\n",
       "      <td>...</td>\n",
       "      <td>1.0</td>\n",
       "      <td>1.0</td>\n",
       "      <td>0.0</td>\n",
       "      <td>0.0</td>\n",
       "      <td>0.0</td>\n",
       "      <td>0.0</td>\n",
       "      <td>0.0</td>\n",
       "      <td>0.0</td>\n",
       "      <td>7.50</td>\n",
       "      <td>6.5</td>\n",
       "    </tr>\n",
       "    <tr>\n",
       "      <th>3</th>\n",
       "      <td>1</td>\n",
       "      <td>894.0</td>\n",
       "      <td>1.0</td>\n",
       "      <td>1.0</td>\n",
       "      <td>1.0</td>\n",
       "      <td>0.0</td>\n",
       "      <td>1.0</td>\n",
       "      <td>7.30</td>\n",
       "      <td>8.75</td>\n",
       "      <td>5.50</td>\n",
       "      <td>...</td>\n",
       "      <td>0.0</td>\n",
       "      <td>0.0</td>\n",
       "      <td>1.0</td>\n",
       "      <td>0.0</td>\n",
       "      <td>0.0</td>\n",
       "      <td>0.0</td>\n",
       "      <td>0.0</td>\n",
       "      <td>0.0</td>\n",
       "      <td>7.50</td>\n",
       "      <td>6.5</td>\n",
       "    </tr>\n",
       "    <tr>\n",
       "      <th>4</th>\n",
       "      <td>1</td>\n",
       "      <td>619.0</td>\n",
       "      <td>0.0</td>\n",
       "      <td>0.0</td>\n",
       "      <td>1.0</td>\n",
       "      <td>0.0</td>\n",
       "      <td>1.0</td>\n",
       "      <td>7.30</td>\n",
       "      <td>8.75</td>\n",
       "      <td>5.50</td>\n",
       "      <td>...</td>\n",
       "      <td>1.0</td>\n",
       "      <td>0.0</td>\n",
       "      <td>0.0</td>\n",
       "      <td>0.0</td>\n",
       "      <td>0.0</td>\n",
       "      <td>0.0</td>\n",
       "      <td>0.0</td>\n",
       "      <td>0.0</td>\n",
       "      <td>7.50</td>\n",
       "      <td>6.5</td>\n",
       "    </tr>\n",
       "    <tr>\n",
       "      <th>...</th>\n",
       "      <td>...</td>\n",
       "      <td>...</td>\n",
       "      <td>...</td>\n",
       "      <td>...</td>\n",
       "      <td>...</td>\n",
       "      <td>...</td>\n",
       "      <td>...</td>\n",
       "      <td>...</td>\n",
       "      <td>...</td>\n",
       "      <td>...</td>\n",
       "      <td>...</td>\n",
       "      <td>...</td>\n",
       "      <td>...</td>\n",
       "      <td>...</td>\n",
       "      <td>...</td>\n",
       "      <td>...</td>\n",
       "      <td>...</td>\n",
       "      <td>...</td>\n",
       "      <td>...</td>\n",
       "      <td>...</td>\n",
       "      <td>...</td>\n",
       "    </tr>\n",
       "    <tr>\n",
       "      <th>9143</th>\n",
       "      <td>1</td>\n",
       "      <td>2766.0</td>\n",
       "      <td>0.0</td>\n",
       "      <td>1.0</td>\n",
       "      <td>1.0</td>\n",
       "      <td>0.0</td>\n",
       "      <td>1.0</td>\n",
       "      <td>5.65</td>\n",
       "      <td>8.25</td>\n",
       "      <td>4.25</td>\n",
       "      <td>...</td>\n",
       "      <td>0.0</td>\n",
       "      <td>1.0</td>\n",
       "      <td>1.0</td>\n",
       "      <td>0.0</td>\n",
       "      <td>0.0</td>\n",
       "      <td>0.0</td>\n",
       "      <td>0.0</td>\n",
       "      <td>0.0</td>\n",
       "      <td>8.75</td>\n",
       "      <td>5.0</td>\n",
       "    </tr>\n",
       "    <tr>\n",
       "      <th>9144</th>\n",
       "      <td>1</td>\n",
       "      <td>2587.0</td>\n",
       "      <td>6.0</td>\n",
       "      <td>1.0</td>\n",
       "      <td>1.0</td>\n",
       "      <td>1.0</td>\n",
       "      <td>1.0</td>\n",
       "      <td>5.65</td>\n",
       "      <td>8.25</td>\n",
       "      <td>4.25</td>\n",
       "      <td>...</td>\n",
       "      <td>0.0</td>\n",
       "      <td>0.0</td>\n",
       "      <td>1.0</td>\n",
       "      <td>0.0</td>\n",
       "      <td>1.0</td>\n",
       "      <td>0.0</td>\n",
       "      <td>0.0</td>\n",
       "      <td>0.0</td>\n",
       "      <td>8.75</td>\n",
       "      <td>5.0</td>\n",
       "    </tr>\n",
       "    <tr>\n",
       "      <th>9145</th>\n",
       "      <td>1</td>\n",
       "      <td>2766.0</td>\n",
       "      <td>0.0</td>\n",
       "      <td>1.0</td>\n",
       "      <td>1.0</td>\n",
       "      <td>0.0</td>\n",
       "      <td>1.0</td>\n",
       "      <td>5.65</td>\n",
       "      <td>8.25</td>\n",
       "      <td>4.25</td>\n",
       "      <td>...</td>\n",
       "      <td>0.0</td>\n",
       "      <td>1.0</td>\n",
       "      <td>1.0</td>\n",
       "      <td>0.0</td>\n",
       "      <td>0.0</td>\n",
       "      <td>0.0</td>\n",
       "      <td>0.0</td>\n",
       "      <td>0.0</td>\n",
       "      <td>8.75</td>\n",
       "      <td>5.0</td>\n",
       "    </tr>\n",
       "    <tr>\n",
       "      <th>9146</th>\n",
       "      <td>1</td>\n",
       "      <td>3269.0</td>\n",
       "      <td>2.0</td>\n",
       "      <td>1.0</td>\n",
       "      <td>1.0</td>\n",
       "      <td>0.0</td>\n",
       "      <td>1.0</td>\n",
       "      <td>5.65</td>\n",
       "      <td>8.25</td>\n",
       "      <td>4.25</td>\n",
       "      <td>...</td>\n",
       "      <td>0.0</td>\n",
       "      <td>0.0</td>\n",
       "      <td>1.0</td>\n",
       "      <td>0.0</td>\n",
       "      <td>0.0</td>\n",
       "      <td>0.0</td>\n",
       "      <td>0.0</td>\n",
       "      <td>0.0</td>\n",
       "      <td>8.75</td>\n",
       "      <td>5.0</td>\n",
       "    </tr>\n",
       "    <tr>\n",
       "      <th>9147</th>\n",
       "      <td>1</td>\n",
       "      <td>2400.0</td>\n",
       "      <td>0.0</td>\n",
       "      <td>1.0</td>\n",
       "      <td>1.0</td>\n",
       "      <td>0.0</td>\n",
       "      <td>1.0</td>\n",
       "      <td>5.65</td>\n",
       "      <td>8.25</td>\n",
       "      <td>4.25</td>\n",
       "      <td>...</td>\n",
       "      <td>0.0</td>\n",
       "      <td>1.0</td>\n",
       "      <td>1.0</td>\n",
       "      <td>0.0</td>\n",
       "      <td>0.0</td>\n",
       "      <td>0.0</td>\n",
       "      <td>0.0</td>\n",
       "      <td>0.0</td>\n",
       "      <td>8.75</td>\n",
       "      <td>5.0</td>\n",
       "    </tr>\n",
       "  </tbody>\n",
       "</table>\n",
       "<p>9148 rows × 39 columns</p>\n",
       "</div>"
      ],
      "text/plain": [
       "      treat   price  guests  host  work  dishwasher  kitchen  sights  \\\n",
       "0         1   571.0     0.0   0.0   1.0         0.0      1.0    7.30   \n",
       "1         1   747.0     0.0   0.0   1.0         0.0      1.0    7.30   \n",
       "2         1   544.0     1.0   1.0   1.0         0.0      1.0    7.30   \n",
       "3         1   894.0     1.0   1.0   1.0         0.0      1.0    7.30   \n",
       "4         1   619.0     0.0   0.0   1.0         0.0      1.0    7.30   \n",
       "...     ...     ...     ...   ...   ...         ...      ...     ...   \n",
       "9143      1  2766.0     0.0   1.0   1.0         0.0      1.0    5.65   \n",
       "9144      1  2587.0     6.0   1.0   1.0         1.0      1.0    5.65   \n",
       "9145      1  2766.0     0.0   1.0   1.0         0.0      1.0    5.65   \n",
       "9146      1  3269.0     2.0   1.0   1.0         0.0      1.0    5.65   \n",
       "9147      1  2400.0     0.0   1.0   1.0         0.0      1.0    5.65   \n",
       "\n",
       "      location  climate  ...  blackout curtains  outdoor  mailbox  \\\n",
       "0         8.75     5.50  ...                0.0      0.0      0.0   \n",
       "1         8.75     5.50  ...                0.0      0.0      0.0   \n",
       "2         8.75     5.50  ...                1.0      1.0      0.0   \n",
       "3         8.75     5.50  ...                0.0      0.0      1.0   \n",
       "4         8.75     5.50  ...                1.0      0.0      0.0   \n",
       "...        ...      ...  ...                ...      ...      ...   \n",
       "9143      8.25     4.25  ...                0.0      1.0      1.0   \n",
       "9144      8.25     4.25  ...                0.0      0.0      1.0   \n",
       "9145      8.25     4.25  ...                0.0      1.0      1.0   \n",
       "9146      8.25     4.25  ...                0.0      0.0      1.0   \n",
       "9147      8.25     4.25  ...                0.0      1.0      1.0   \n",
       "\n",
       "      cleaning products  temperature  pool etc.  fireplace  fitness equipment  \\\n",
       "0                   0.0          0.0        0.0        0.0                0.0   \n",
       "1                   0.0          0.0        0.0        0.0                0.0   \n",
       "2                   0.0          0.0        0.0        0.0                0.0   \n",
       "3                   0.0          0.0        0.0        0.0                0.0   \n",
       "4                   0.0          0.0        0.0        0.0                0.0   \n",
       "...                 ...          ...        ...        ...                ...   \n",
       "9143                0.0          0.0        0.0        0.0                0.0   \n",
       "9144                0.0          1.0        0.0        0.0                0.0   \n",
       "9145                0.0          0.0        0.0        0.0                0.0   \n",
       "9146                0.0          0.0        0.0        0.0                0.0   \n",
       "9147                0.0          0.0        0.0        0.0                0.0   \n",
       "\n",
       "      safety  shopping  \n",
       "0       7.50       6.5  \n",
       "1       7.50       6.5  \n",
       "2       7.50       6.5  \n",
       "3       7.50       6.5  \n",
       "4       7.50       6.5  \n",
       "...      ...       ...  \n",
       "9143    8.75       5.0  \n",
       "9144    8.75       5.0  \n",
       "9145    8.75       5.0  \n",
       "9146    8.75       5.0  \n",
       "9147    8.75       5.0  \n",
       "\n",
       "[9148 rows x 39 columns]"
      ]
     },
     "execution_count": 9,
     "metadata": {},
     "output_type": "execute_result"
    }
   ],
   "source": [
    "dat"
   ]
  },
  {
   "cell_type": "code",
   "execution_count": 10,
   "metadata": {},
   "outputs": [],
   "source": [
    "# Get the remaining column names as a list for the LASSO\n",
    "column_list = dat.columns.tolist()"
   ]
  },
  {
   "cell_type": "markdown",
   "metadata": {},
   "source": [
    "# Descriptive Analysis"
   ]
  },
  {
   "cell_type": "code",
   "execution_count": 11,
   "metadata": {},
   "outputs": [
    {
     "name": "stdout",
     "output_type": "stream",
     "text": [
      "treat\n",
      "0    1395.315645\n",
      "1    1020.717569\n",
      "Name: price, dtype: float64\n"
     ]
    }
   ],
   "source": [
    "# Print mean by treatment (Swift-conceft)\n",
    "mean_by_category = dat.groupby('treat')['price'].mean()\n",
    "print(mean_by_category)"
   ]
  },
  {
   "cell_type": "code",
   "execution_count": 12,
   "metadata": {},
   "outputs": [],
   "source": [
    "# Set y and X variables for descriptive analysis \n",
    "y = dat.price\n",
    "X = dat.drop([\"price\"],axis=1)"
   ]
  },
  {
   "cell_type": "code",
   "execution_count": 13,
   "metadata": {},
   "outputs": [],
   "source": [
    "# Standardize variabels\n",
    "muhat = np.mean(X,axis = 0)\n",
    "stdhat = np.std(X,axis = 0)\n",
    "Xn = (X - muhat)/stdhat"
   ]
  },
  {
   "cell_type": "code",
   "execution_count": 14,
   "metadata": {},
   "outputs": [],
   "source": [
    "# Make penalty_grid\n",
    "lambda_grid = np.geomspace(10,1e3) # log-equispaced\n",
    "from sklearn.linear_model import Lasso\n",
    "coefs=[]\n",
    "for lamb in lambda_grid:\n",
    "    fit=Lasso(alpha = lamb).fit(Xn,y) # estimate\n",
    "    coefs.append(fit.coef_)"
   ]
  },
  {
   "cell_type": "code",
   "execution_count": 15,
   "metadata": {},
   "outputs": [],
   "source": [
    "first_sub_array = coefs[0]"
   ]
  },
  {
   "cell_type": "code",
   "execution_count": 16,
   "metadata": {},
   "outputs": [],
   "source": [
    "XNames = np.array(X.columns)"
   ]
  },
  {
   "cell_type": "code",
   "execution_count": 17,
   "metadata": {},
   "outputs": [
    {
     "data": {
      "text/plain": [
       "{'treat': -0.0,\n",
       " 'guests': 339.7585856864327,\n",
       " 'host': 86.46026651464727,\n",
       " 'work': -154.3898189604612,\n",
       " 'dishwasher': 87.24730276379476,\n",
       " 'kitchen': -98.47428203163399,\n",
       " 'sights': 183.13544200127114,\n",
       " 'location': 112.4577169213282,\n",
       " 'climate': -208.46759970399629,\n",
       " 'affordability': -128.013553483952,\n",
       " 'rating': 11.415247236506731,\n",
       " 'reviews': -7.072570495887024,\n",
       " 'bathroom': -42.14634544563844,\n",
       " 'hair dryer': 28.39360600207522,\n",
       " 'shampoo': 22.632164293914,\n",
       " 'hot water': -27.405148599697114,\n",
       " 'washing machine': -4.185511132025126,\n",
       " 'hangers': -0.0,\n",
       " 'entertainment': 5.529957364255717,\n",
       " 'security': -8.483654839241378,\n",
       " 'wi-fi': -0.0,\n",
       " 'refrigerator': 20.551927629765657,\n",
       " 'family': 19.364628823521166,\n",
       " 'parking': -59.85204092018599,\n",
       " 'view': -0.0,\n",
       " 'attractions nearby': -12.630566164759264,\n",
       " 'smoking allowed': -11.221806618541084,\n",
       " 'bed linen': 11.558879875670103,\n",
       " 'blackout curtains': 39.37938246262583,\n",
       " 'outdoor': -21.00491887929247,\n",
       " 'mailbox': -64.19660109699731,\n",
       " 'cleaning products': -23.055854042394834,\n",
       " 'temperature': 6.161246235998548,\n",
       " 'pool etc.': 8.720049322039744,\n",
       " 'fireplace': -0.0,\n",
       " 'fitness equipment': 3.41686485190959,\n",
       " 'safety': -0.0,\n",
       " 'shopping': 0.0}"
      ]
     },
     "execution_count": 17,
     "metadata": {},
     "output_type": "execute_result"
    }
   ],
   "source": [
    "feature_value_dict = dict(zip(XNames, first_sub_array))\n",
    "feature_value_dict"
   ]
  },
  {
   "cell_type": "code",
   "execution_count": 18,
   "metadata": {},
   "outputs": [],
   "source": [
    "color_codes = [\n",
    "    '#7CCD7C',  # Light green\n",
    "    '#DAA520',  # Gold\n",
    "    '#7A378B',  # Purple\n",
    "    '#8B0000',  # Red\n",
    "    '#98F5FF',  # Bright blue\n",
    "    '#000000',  # Black\n",
    "    '#FF69B4',  # Pink\n",
    "    '#808A87',  # Grey\n",
    "    '#8B7D6B',  # Beige\n",
    "    '#191970'   # Midnight blue\n",
    "]"
   ]
  },
  {
   "cell_type": "code",
   "execution_count": 19,
   "metadata": {},
   "outputs": [
    {
     "data": {
      "image/png": "[encoded data removed]",
      "text/plain": [
       "<Figure size 432x288 with 1 Axes>"
      ]
     },
     "metadata": {
      "needs_background": "light"
     },
     "output_type": "display_data"
    }
   ],
   "source": [
    "# Create the plot\n",
    "fig, ax = plt.subplots()\n",
    "\n",
    "# Plot the LASSO path\n",
    "lines = ax.plot(lambda_grid, coefs)\n",
    "\n",
    "# Set colors for the first ten coefficients\n",
    "for i, line in enumerate(lines[:10]):\n",
    "    line.set_color(color_codes[i])\n",
    "\n",
    "ax.set_xscale('log')\n",
    "plt.xlabel('Penalty, $\\lambda$')\n",
    "plt.ylabel(r'Estimates, $\\widehat{\\beta}_j(\\lambda)$')\n",
    "\n",
    "XNames = np.array(X.columns)\n",
    "lgd = ax.legend(XNames[:10], loc='upper center', bbox_to_anchor=(0.5, -0.2), ncol=5)  # Adjust bbox_to_anchor\n",
    "ax.add_artist(lgd)\n",
    "\n",
    "# Assuming you have defined figpath\n",
    "figpath = \"/Users/bruger/Desktop/Exam/Figures\"\n",
    "filename = \"lasso_path.png\"\n",
    "\n",
    "# Combine the path and filename to create the complete file path\n",
    "full_figpath = f\"{figpath}/{filename}\"\n",
    "\n",
    "# Save the figure as a PNG image with specified DPI\n",
    "fig.savefig(full_figpath, bbox_inches='tight', dpi=300)\n",
    "\n",
    "plt.show()"
   ]
  },
  {
   "cell_type": "markdown",
   "metadata": {},
   "source": [
    "# Simple OLS"
   ]
  },
  {
   "cell_type": "code",
   "execution_count": 20,
   "metadata": {},
   "outputs": [],
   "source": [
    "column_list.remove('price') # dependent variable\n",
    "column_list.remove('treat') # treatment variable (Swift-concert)"
   ]
  },
  {
   "cell_type": "code",
   "execution_count": 21,
   "metadata": {},
   "outputs": [],
   "source": [
    "zs = column_list\n",
    "ds = ['treat']\n",
    "xs = ds + zs\n",
    "\n",
    "# avoiding missings\n",
    "all_vars = ['price'] + xs\n",
    "I = dat[all_vars].notnull().all(1)\n",
    "\n",
    "# extract data\n",
    "X = dat.loc[I, xs].values\n",
    "Z = dat.loc[I, zs].values\n",
    "D = dat.loc[I, ds].values\n",
    "y = dat.loc[I,'price'].values.reshape((-1,1)) \n",
    "\n",
    "# check the rank condition\n",
    "K = X.shape[1]\n",
    "assert np.linalg.matrix_rank(X) == X.shape[1], f'X does not have full rank'"
   ]
  },
  {
   "cell_type": "code",
   "execution_count": 22,
   "metadata": {},
   "outputs": [],
   "source": [
    "# OLS: No controls\n",
    "cD = np.concatenate((np.ones_like(D),D),axis = 1)\n",
    "\n",
    "betahat = np.linalg.inv(cD.T @ cD) @ cD.T @ y\n",
    "SSR_none = (y - cD@betahat).T@(y - cD@betahat)\n",
    "\n",
    "sigma2 = (np.array(SSR_none/(cD.shape[0] - cD.shape[1])))\n",
    "cov = sigma2*la.inv(cD.T@cD)\n",
    "se_none = np.sqrt(cov.diagonal()).reshape(-1, 1)\n",
    "\n",
    "OLS_none = betahat[1]\n",
    "\n",
    "OLS_CI = OLS_none + norm.ppf(0.975)*np.array([-se_none[1].item(),se_none[1].item()])"
   ]
  },
  {
   "cell_type": "markdown",
   "metadata": {},
   "source": [
    "# Adding interaction terms"
   ]
  },
  {
   "cell_type": "code",
   "execution_count": 23,
   "metadata": {},
   "outputs": [],
   "source": [
    "interactions = PolynomialFeatures(interaction_only=True, include_bias = False)\n",
    "Z_int = interactions.fit_transform(Z)   # Creating control variables with interaction terms\n",
    "int_names = interactions.get_feature_names_out(zs)\n",
    "\n",
    "i_idx = []      # defining list to seperate index of variables and interaction terms with variance. \n",
    "                # the looping as below is bad code, as it could be written as a one-liner\n",
    "\n",
    "for i in range(Z_int.shape[1]):\n",
    "    if np.std(Z_int[:,i]) != 0:\n",
    "        i_idx.append(i)\n",
    "\n",
    "Z_int = Z_int[:,i_idx]      # dropping interaction terms with out variance\n",
    "idx_ = int_names[i_idx]     # dropping variable names of interaction terms without variance\n",
    "X_int = np.concatenate((D,Z_int),axis = 1)          # Creating all variables with interaction terms"
   ]
  },
  {
   "cell_type": "code",
   "execution_count": 24,
   "metadata": {},
   "outputs": [],
   "source": [
    "y = dat.loc[I, 'price'] \n",
    "X = dat.loc[I, xs].values\n",
    "D = D.flatten()\n",
    "len_some = len(X)\n",
    "contr_some = len(xs) - 1\n",
    "\n",
    "betahat = np.linalg.inv(X.T @ X) @ X.T @ y\n",
    "\n",
    "SSR_some = (y - X@betahat).T@(y - X@betahat)\n",
    "\n",
    "sigma2 = (np.array(SSR_some/(X.shape[0] - X.shape[1])))\n",
    "cov = sigma2*la.inv(X.T@X)\n",
    "se_some = np.sqrt(cov.diagonal()).reshape(-1, 1)\n",
    "\n",
    "OLS_some = betahat[1]\n",
    "OLS_CI = OLS_some + norm.ppf(0.975)*np.array([-se_some[1].item(),se_some[1].item()])"
   ]
  },
  {
   "cell_type": "markdown",
   "metadata": {},
   "source": [
    "# Data setup"
   ]
  },
  {
   "cell_type": "code",
   "execution_count": 25,
   "metadata": {},
   "outputs": [],
   "source": [
    "# Standardize variables for LASSO \n",
    "def standardize(X):\n",
    "    X_mean = np.mean(X,axis=0)\n",
    "    X_std = np.std(X,axis=0)\n",
    "    X_stan = (X-X_mean)/X_std\n",
    "    return X_stan\n",
    "\n",
    "X_stan = standardize(X)\n",
    "Z_stan = standardize(Z)\n",
    "Z_int_stan = standardize(Z_int)\n",
    "X_int_stan = standardize(X_int)\n",
    "D_stan = standardize(D)"
   ]
  },
  {
   "attachments": {},
   "cell_type": "markdown",
   "metadata": {},
   "source": [
    "# Defining penalty term"
   ]
  },
  {
   "cell_type": "code",
   "execution_count": 26,
   "metadata": {},
   "outputs": [],
   "source": [
    "def CV(X_tilde, y, max_iter=5000, tol=1e-5):\n",
    "    fit_cv = LassoCV(cv=5, max_iter=max_iter, tol=tol).fit(X_tilde, y)\n",
    "    penalty_CV = fit_cv.alpha_\n",
    "    \n",
    "    return penalty_CV\n",
    "\n",
    "def BRT(X_tilde,y):\n",
    "    (N,p) = X_tilde.shape\n",
    "    sigma = np.std(y)\n",
    "    c = 1.1\n",
    "    alpha = 0.05\n",
    "\n",
    "    penalty_BRT = (sigma * c)/np.sqrt(N)*norm.ppf(1-alpha/(2*p))\n",
    "\n",
    "    return penalty_BRT\n",
    "\n",
    "def BCCH(X_tilde,y):\n",
    "    (N,p) = X_tilde.shape\n",
    "    c = 1.1 \n",
    "    alpha = 0.05\n",
    "    yXscale = (np.max((X_tilde.T ** 2) @ ((y-np.mean(y)) ** 2) / N)) ** 0.5\n",
    "    lambda_pilot = c*norm.ppf(1-alpha/(2*p))*yXscale/np.sqrt(N)\n",
    "\n",
    "    # Pilot estimates\n",
    "    coef_pilot = Lasso(alpha=lambda_pilot).fit(X_tilde,y).coef_\n",
    "    coef_intercept = Lasso(alpha=lambda_pilot).fit(X_tilde,y).intercept_\n",
    "    pred = (coef_intercept + X_tilde@coef_pilot)\n",
    "    pred = Lasso(alpha=lambda_pilot).fit(X_tilde,y).predict(X_tilde)\n",
    "\n",
    "    # Updated penalty\n",
    "    res = y - pred\n",
    "    assert res.ndim == 1        # check residuals only have one dimension\n",
    "    resXscale = (np.max((X_tilde.T ** 2) @ (res ** 2) / N)) ** 0.5\n",
    "    lambda_bcch = c*norm.ppf(1-alpha/(2*p))*resXscale/np.sqrt(N)\n",
    "\n",
    "    return lambda_bcch"
   ]
  },
  {
   "cell_type": "markdown",
   "metadata": {},
   "source": [
    "# Post Double Lasso"
   ]
  },
  {
   "cell_type": "code",
   "execution_count": 27,
   "metadata": {},
   "outputs": [
    {
     "name": "stderr",
     "output_type": "stream",
     "text": [
      "/Users/bruger/opt/anaconda3/lib/python3.9/site-packages/sklearn/linear_model/_coordinate_descent.py:633: ConvergenceWarning: Objective did not converge. You might want to increase the number of iterations. Duality gap: 97078.08739995956, tolerance: 55334.66135086092\n",
      "  model = cd_fast.enet_coordinate_descent_gram(\n",
      "/Users/bruger/opt/anaconda3/lib/python3.9/site-packages/sklearn/linear_model/_coordinate_descent.py:633: ConvergenceWarning: Objective did not converge. You might want to increase the number of iterations. Duality gap: 109881.39109611511, tolerance: 55334.66135086092\n",
      "  model = cd_fast.enet_coordinate_descent_gram(\n"
     ]
    }
   ],
   "source": [
    "penalty_yx = CV(X_stan, y, max_iter=1000000) \n",
    "penalty_BRTyx = BRT(X_stan,y)\n",
    "penalty_BCCHyx = BCCH(X_stan,y)\n",
    "penalty_yx_1 = CV(X_int_stan, y, max_iter=100000)  \n",
    "penalty_BRTyx_1 = BRT(X_int_stan,y)\n",
    "penalty_BCCHyx_1 = BCCH(X_int_stan,y)"
   ]
  },
  {
   "cell_type": "code",
   "execution_count": null,
   "metadata": {},
   "outputs": [],
   "source": [
    "# Calculating penalty terms for Swift-dummy\n",
    "penalty_dz = CV(Z_stan,D,max_iter=1000000)\n",
    "penalty_BRTdz = BRT(Z_stan,D)\n",
    "penalty_BCCHdz = BCCH(Z_stan,D)\n",
    "penalty_dz_1 = CV(Z_int_stan,D,max_iter=1000000)\n",
    "penalty_BRTdz_1 = BRT(Z_int_stan,D)\n",
    "penalty_BCCHdz_1 = BCCH(Z_int_stan,D)"
   ]
  },
  {
   "cell_type": "code",
   "execution_count": null,
   "metadata": {},
   "outputs": [],
   "source": [
    "fit_dz = Lasso(alpha=penalty_dz).fit(Z_stan,D) \n",
    "fit_dz_1 = Lasso(alpha=penalty_dz_1).fit(Z_int_stan,D) \n",
    "\n",
    "# Save residuals\n",
    "resdz = D - fit_dz.predict(Z_stan)\n",
    "resdz_1 = D - fit_dz_1.predict(Z_int_stan)\n",
    "\n",
    "# Lasso on price\n",
    "fit_yx = Lasso(alpha=penalty_yx).fit(X_stan,y) \n",
    "fit_yx_1 = Lasso(alpha=penalty_yx_1).fit(X_int_stan,y) \n",
    "\n",
    "# Lasso coefficients\n",
    "coefs = fit_yx.coef_\n",
    "coefs_1 = fit_yx_1.coef_\n",
    "\n",
    "# save residuals\n",
    "resyxz = y-fit_yx.predict(X_stan) + D_stan*coefs[0]\n",
    "resyxz_1 = y-fit_yx_1.predict(X_int_stan) + D_stan*coefs_1[0]"
   ]
  },
  {
   "cell_type": "code",
   "execution_count": null,
   "metadata": {},
   "outputs": [],
   "source": [
    "# Lasso on Taylor Dummy\n",
    "fit_BRTdz = Lasso(alpha=penalty_BRTdz).fit(Z_stan,D) \n",
    "fit_BCCHdz = Lasso(alpha=penalty_BCCHdz).fit(Z_stan,D)\n",
    "fit_BRTdz_1 = Lasso(alpha=penalty_BRTdz_1).fit(Z_int_stan,D) \n",
    "fit_BCCHdz_1 = Lasso(alpha=penalty_BCCHdz_1).fit(Z_int_stan,D)\n",
    "\n",
    "# Save residuals\n",
    "resdz_BRT = D - fit_BRTdz.predict(Z_stan)\n",
    "resdz_BCCH = D - fit_BCCHdz.predict(Z_stan)\n",
    "resdz_BRT_1 = D - fit_BRTdz_1.predict(Z_int_stan)\n",
    "resdz_BCCH_1 = D - fit_BCCHdz_1.predict(Z_int_stan)\n",
    "\n",
    "# Lasso on price\n",
    "fit_BRTyx = Lasso(alpha=penalty_BRTyx).fit(X_stan,y) \n",
    "fit_BCCHyx = Lasso(alpha=penalty_BCCHyx).fit(X_stan,y) \n",
    "fit_BRTyx_1 = Lasso(alpha=penalty_BRTyx_1).fit(X_int_stan,y) \n",
    "fit_BCCHyx_1 = Lasso(alpha=penalty_BCCHyx_1).fit(X_int_stan,y) \n",
    "\n",
    "# Lasso coefficients\n",
    "coefs_BRT = fit_BRTyx.coef_\n",
    "coefs_BCCH = fit_BCCHyx.coef_\n",
    "coefs_BRT_1 = fit_BRTyx_1.coef_\n",
    "coefs_BCCH_1 = fit_BCCHyx_1.coef_\n",
    "\n",
    "# save residuals\n",
    "resyxz_BRT = y-fit_BRTyx.predict(X_stan) + D_stan*coefs_BRT[0]\n",
    "resyxz_BCCH = y-fit_BCCHyx.predict(X_stan) + D_stan*coefs_BCCH[0]\n",
    "resyxz_BRT_1 = y-fit_BRTyx_1.predict(X_int_stan) + D_stan*coefs_BRT_1[0]\n",
    "resyxz_BCCH_1 = y-fit_BCCHyx_1.predict(X_int_stan) + D_stan*coefs_BCCH_1[0]"
   ]
  },
  {
   "cell_type": "code",
   "execution_count": null,
   "metadata": {},
   "outputs": [],
   "source": [
    "def PDL_ols(resdz,resyxz,d):\n",
    "    denom = np.sum(resdz*d)\n",
    "    num = np.sum(resdz*resyxz)\n",
    "    return num/denom\n",
    "\n",
    "def PDL_CI(resdz,resyzz):\n",
    "    # Variance\n",
    "\n",
    "    N = resyzz.shape[0]\n",
    "    num = np.sum(resdz**2*resyzz**2)/N\n",
    "    denom = (np.sum(resdz**2)/N)**2\n",
    "    sigma2_PDL = num/denom\n",
    "\n",
    "    # Confidence interval\n",
    "    q=norm.ppf(1-0.025)\n",
    "    se_PDL = np.sqrt(sigma2_PDL/N)      # calculating standard error as the squareroot of the mean variance\n",
    "    CI_PDL=(((PDL-q*se_PDL).round(2),(PDL+q*se_PDL).round(2)))\n",
    "\n",
    "    return se_PDL, CI_PDL\n",
    "\n",
    "# Save residuals\n",
    "resyzz = y - fit_yx.predict(X_stan)\n",
    "resyzz_BRT = y - fit_BRTyx.predict(X_stan)\n",
    "resyzz_BCCH = y - fit_BCCHyx.predict(X_stan)\n",
    "resyzz_1 = y - fit_yx_1.predict(X_int_stan)\n",
    "resyzz_BRT_1 = y - fit_BRTyx_1.predict(X_int_stan)\n",
    "resyzz_BCCH_1 = y - fit_BCCHyx_1.predict(X_int_stan)\n",
    "\n",
    "# Estimating Post Double Lasso\n",
    "PDL = PDL_ols(resdz,resyxz,D)\n",
    "PDL_BRT = PDL_ols(resdz_BRT,resyxz_BRT,D)\n",
    "PDL_BCCH = PDL_ols(resdz_BCCH, resyxz_BCCH, D)\n",
    "PDL_1 = PDL_ols(resdz_1,resyxz_1,D)\n",
    "PDL_BRT_1 = PDL_ols(resdz_BRT_1,resyxz_BRT_1,D)\n",
    "PDL_BCCH_1 = PDL_ols(resdz_BCCH_1, resyxz_BCCH_1, D)\n",
    "\n",
    "# estimating standard errors and confidence interval for Post Double Lasso\n",
    "se_PDL, CI_PDL = PDL_CI(resdz, resyzz)\n",
    "se_PDL_BRT, CI_PDL_BRT = PDL_CI(resdz_BRT, resyzz_BRT)\n",
    "se_PDL_BCCH, CI_PDL_BCCH = PDL_CI(resdz_BCCH, resyzz_BCCH)\n",
    "se_PDL_1, CI_PDL_1 = PDL_CI(resdz_1, resyzz_1)\n",
    "se_PDL_BRT_1, CI_PDL_BRT_1 = PDL_CI(resdz_BRT_1, resyzz_BRT_1)\n",
    "se_PDL_BCCH_1, CI_PDL_BCCH_1 = PDL_CI(resdz_BCCH_1, resyzz_BCCH_1)"
   ]
  },
  {
   "cell_type": "markdown",
   "metadata": {},
   "source": [
    "# Results"
   ]
  },
  {
   "cell_type": "code",
   "execution_count": null,
   "metadata": {},
   "outputs": [],
   "source": [
    "# Estimates\n",
    "estimates = np.array([OLS_none[0], OLS_some, PDL, PDL_1, PDL_BCCH, PDL_BCCH_1]).round(1)\n",
    "label_over_column = ['(1)','(2)','(3)','(4)','(5)','(6)']\n",
    "label_column = np.array(['OLS', 'OLS', 'PDL (CV)', 'PDL (CV)', 'PDL (BCCH)', 'PDL (BCCH)'])\n",
    "label_row = ['' ,'Swift-effect', 'se', 'No controls','No obs','$\\lambda^{dz}$','$\\lambda^{yx}$','t-statistic']\n",
    "se = np.array([se_none[1].item(),se_some[1].item(),se_PDL, se_PDL_1,se_PDL_BCCH, se_PDL_BCCH_1]).round(1)\n",
    "no_controls = np.array([0, contr_some, len(zs), Z_int_stan.shape[1], len(zs), Z_int_stan.shape[1]])\n",
    "no_obs = np.array([len(y), len(y), len(y), len(y), len(y), len(y)])\n",
    "\n",
    "pens_dz = np.array(['','', penalty_dz.round(4), penalty_dz_1.round(4), penalty_BCCHdz.round(4),penalty_BCCHdz_1.round(4)])\n",
    "pens_yx = np.array(['','', penalty_yx.round(1), penalty_yx_1.round(1), penalty_BCCHyx.round(1), penalty_BCCHyx_1.round(1)])\n",
    "\n",
    "t_statistic = (estimates/se).round(2)    \n",
    "\n",
    "data = np.row_stack((label_column ,estimates, se, no_controls,no_obs, pens_dz, pens_yx,t_statistic))\n",
    "\n",
    "df = pd.DataFrame(data = data, index = label_row, columns = label_over_column)\n",
    "\n",
    "print(df.to_latex(escape = False))"
   ]
  },
  {
   "attachments": {},
   "cell_type": "markdown",
   "metadata": {},
   "source": [
    "## Table with estimates of control variables"
   ]
  },
  {
   "cell_type": "code",
   "execution_count": null,
   "metadata": {},
   "outputs": [],
   "source": [
    "# LASSO estimates - CV with out interactions\n",
    "df_tab = pd.DataFrame(data = np.row_stack((fit_dz.coef_,fit_yx.coef_[1:])).T, index = zs,columns = ['dz','yx']) # collecting all estimates for both stages, exluding air bnb prices\n",
    "print(df_tab.loc[~(df_tab==0).all(axis=1)].round(4).to_latex(escape=False)) # removing all estimates equal to zero"
   ]
  },
  {
   "cell_type": "code",
   "execution_count": null,
   "metadata": {},
   "outputs": [],
   "source": [
    "# LASSO estimates - CV with interaction terms\n",
    "df_tab_int = pd.DataFrame(data = np.row_stack((fit_dz_1.coef_,fit_yx_1.coef_[1:])).T, index = idx_,columns = ['dz','yx']) # using idx_, as this variable is control variable names, adjusted for those delted due to no variance\n",
    "print(df_tab_int.loc[~(df_tab_int==0).all(axis=1)].round(4).to_latex(escape=False))"
   ]
  },
  {
   "cell_type": "code",
   "execution_count": null,
   "metadata": {},
   "outputs": [],
   "source": [
    "# LASSO estimates - BCCH without interaction terms\n",
    "df_tab_int = pd.DataFrame(data = np.row_stack((fit_BCCHdz.coef_,fit_BCCHyx.coef_[1:])).T, index = zs,columns = ['dz','yx']) # using idx_, as this variable is control variable names, adjusted for those delted due to no variance\n",
    "print(df_tab_int.loc[~(df_tab_int==0).all(axis=1)].round(4).to_latex(escape=False))"
   ]
  },
  {
   "cell_type": "code",
   "execution_count": null,
   "metadata": {},
   "outputs": [],
   "source": [
    "# LASSO estimates - BCCH with interaction terms\n",
    "df_tab_int = pd.DataFrame(data = np.row_stack((fit_BCCHdz_1.coef_,fit_BCCHyx_1.coef_[1:])).T, index = idx_,columns = ['dz','yx'])\n",
    "# no non-zero control variables\n",
    "print(df_tab_int.loc[~(df_tab_int==0).all(axis=1)].round(4).to_latex(escape=False))"
   ]
  },
  {
   "cell_type": "code",
   "execution_count": null,
   "metadata": {},
   "outputs": [],
   "source": []
  }
 ],
 "metadata": {
  "kernelspec": {
   "display_name": "Python 3.9.12",
   "language": "python",
   "name": "python3"
  },
  "language_info": {
   "codemirror_mode": {
    "name": "ipython",
    "version": 3
   },
   "file_extension": ".py",
   "mimetype": "text/x-python",
   "name": "python",
   "nbconvert_exporter": "python",
   "pygments_lexer": "ipython3",
   "version": "3.9.12"
  },
  "vscode": {
   "interpreter": {
    "hash": "1091f1b9584b16126d959e1e6baecccd273f82381826b825c44bca03b6114737"
   }
  }
 },
 "nbformat": 4,
 "nbformat_minor": 4
}
