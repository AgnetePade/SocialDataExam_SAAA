{
 "cells": [
  {
   "cell_type": "code",
   "execution_count": null,
   "metadata": {},
   "outputs": [],
   "source": [
    "import time\n",
    "\n",
    "%load_ext autoreload\n",
    "%load_ext line_profiler\n",
    "%autoreload 2\n",
    "\n",
    "import data_cleaner as dc\n",
    "\n",
    "import pandas as pd\n",
    "import numpy as np\n",
    "\n",
    "import os"
   ]
  },
  {
   "cell_type": "markdown",
   "metadata": {},
   "source": [
    "## Make all raw data into finished data sets"
   ]
  },
  {
   "cell_type": "code",
   "execution_count": null,
   "metadata": {},
   "outputs": [
    {
     "name": "stdout",
     "output_type": "stream",
     "text": [
      "airbnb_Amsterdam_2024-07-04_2024-07-06.csv\n"
     ]
    },
    {
     "name": "stderr",
     "output_type": "stream",
     "text": [
      "c:\\Users\\simon\\OneDrive\\Skrivebord\\sodas_exam_saaa\\data_cleaner.py:263: FutureWarning: The default value of regex will change from True to False in a future version. In addition, single character regular expressions will *not* be treated as literal strings when regex=True.\n",
      "  df_now['omtaler'] = df_now['omtaler'].str.replace(\".\", \"\")\n"
     ]
    },
    {
     "name": "stdout",
     "output_type": "stream",
     "text": [
      "airbnb_Barcalona_2024-05-24_2024-05-25.csv\n"
     ]
    },
    {
     "name": "stderr",
     "output_type": "stream",
     "text": [
      "c:\\Users\\simon\\OneDrive\\Skrivebord\\sodas_exam_saaa\\data_cleaner.py:263: FutureWarning: The default value of regex will change from True to False in a future version. In addition, single character regular expressions will *not* be treated as literal strings when regex=True.\n",
      "  df_now['omtaler'] = df_now['omtaler'].str.replace(\".\", \"\")\n"
     ]
    },
    {
     "name": "stdout",
     "output_type": "stream",
     "text": [
      "airbnb_Berlin_2024-05-09_2024-05-12.csv\n"
     ]
    }
   ],
   "source": [
    "# get path to the folder\n",
    "path = os.getcwd() + \"/Data\"\n",
    "files = os.listdir(path)\n",
    "\n",
    "city_df = pd.read_csv(\"Data/city_rankings.csv\")\n",
    "taylor_df = pd.read_excel(\"Daya/TaylorSwiftCross.xlsx\")\n",
    "\n",
    "cities_done = []\n",
    "for f in files:\n",
    "    #print(f.split(\"airbnb_\")[1])\n",
    "    print(f)\n",
    "    if \"airbnb\" in f:\n",
    "        city = f.split(\"airbnb_\")[1].split(\"_\")[0]\n",
    "    else:\n",
    "        continue\n",
    "\n",
    "    try:\n",
    "        #cities_done.append(city)\n",
    "        df = pd.read_csv(\"data/\" + f)\n",
    "        df_done = dc.clean_airbnb_data(df, taylor_df, city_df)\n",
    "        cities_done.append(df_done)\n",
    "    except:\n",
    "        print(f\"error with {city}\")\n"
   ]
  },
  {
   "cell_type": "markdown",
   "metadata": {},
   "source": [
    "## Put them all together"
   ]
  },
  {
   "cell_type": "code",
   "execution_count": null,
   "metadata": {},
   "outputs": [],
   "source": [
    "# get path to the folder\n",
    "df = pd.concat(cities_done)\n",
    "\n",
    "df.to_csv(\"Data/data_final.csv\")"
   ]
  },
  {
   "cell_type": "code",
   "execution_count": null,
   "metadata": {},
   "outputs": [],
   "source": []
  }
 ],
 "metadata": {
  "kernelspec": {
   "display_name": "base",
   "language": "python",
   "name": "python3"
  },
  "language_info": {
   "codemirror_mode": {
    "name": "ipython",
    "version": 3
   },
   "file_extension": ".py",
   "mimetype": "text/x-python",
   "name": "python",
   "nbconvert_exporter": "python",
   "pygments_lexer": "ipython3",
   "version": "3.9.16"
  },
  "orig_nbformat": 4
 },
 "nbformat": 4,
 "nbformat_minor": 2
}
