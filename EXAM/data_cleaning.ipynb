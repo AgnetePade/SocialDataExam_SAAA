{
 "cells": [
  {
   "cell_type": "code",
   "execution_count": 1,
   "metadata": {},
   "outputs": [
    {
     "ename": "ModuleNotFoundError",
     "evalue": "No module named 'data_cleaner'",
     "output_type": "error",
     "traceback": [
      "\u001b[1;31m---------------------------------------------------------------------------\u001b[0m",
      "\u001b[1;31mModuleNotFoundError\u001b[0m                       Traceback (most recent call last)",
      "\u001b[1;32m~\\AppData\\Local\\Temp\\ipykernel_3536\\1746628547.py\u001b[0m in \u001b[0;36m<module>\u001b[1;34m\u001b[0m\n\u001b[0;32m      5\u001b[0m \u001b[0mget_ipython\u001b[0m\u001b[1;33m(\u001b[0m\u001b[1;33m)\u001b[0m\u001b[1;33m.\u001b[0m\u001b[0mrun_line_magic\u001b[0m\u001b[1;33m(\u001b[0m\u001b[1;34m'autoreload'\u001b[0m\u001b[1;33m,\u001b[0m \u001b[1;34m'2'\u001b[0m\u001b[1;33m)\u001b[0m\u001b[1;33m\u001b[0m\u001b[1;33m\u001b[0m\u001b[0m\n\u001b[0;32m      6\u001b[0m \u001b[1;33m\u001b[0m\u001b[0m\n\u001b[1;32m----> 7\u001b[1;33m \u001b[1;32mimport\u001b[0m \u001b[0mdata_cleaner\u001b[0m \u001b[1;32mas\u001b[0m \u001b[0mdc\u001b[0m\u001b[1;33m\u001b[0m\u001b[1;33m\u001b[0m\u001b[0m\n\u001b[0m\u001b[0;32m      8\u001b[0m \u001b[1;33m\u001b[0m\u001b[0m\n\u001b[0;32m      9\u001b[0m \u001b[1;32mimport\u001b[0m \u001b[0mpandas\u001b[0m \u001b[1;32mas\u001b[0m \u001b[0mpd\u001b[0m\u001b[1;33m\u001b[0m\u001b[1;33m\u001b[0m\u001b[0m\n",
      "\u001b[1;31mModuleNotFoundError\u001b[0m: No module named 'data_cleaner'"
     ]
    }
   ],
   "source": [
    "import time\n",
    "\n",
    "%load_ext autoreload\n",
    "%load_ext line_profiler\n",
    "%autoreload 2\n",
    "\n",
    "import data_cleaner as dc\n",
    "\n",
    "import pandas as pd\n",
    "import numpy as np\n",
    "\n",
    "import os"
   ]
  },
  {
   "cell_type": "markdown",
   "metadata": {},
   "source": [
    "## Make all raw data into finished data sets"
   ]
  },
  {
   "cell_type": "code",
   "execution_count": 8,
   "metadata": {},
   "outputs": [
    {
     "name": "stdout",
     "output_type": "stream",
     "text": [
      "airbnb_Amsterdam_2024-07-04_2024-07-06.csv\n",
      "airbnb_Berlin_2024-05-09_2024-05-12.csv\n",
      "airbnb_Copenhagen_2024-05-17_2024-05-19.csv\n",
      "airbnb_Gelsenkirchen_2024-07-17_2024-07-19.csv\n",
      "airbnb_Hamburg_2024-07-23_2024-07-24.csv\n",
      "airbnb_Lisbon_2024-05-24_2024-05-25.csv\n",
      "error with Lisbon\n",
      "airbnb_Lyon_2024-06-02_2024-06-03.csv\n",
      "airbnb_Madrid_2024-05-29_2024-05-31.csv\n",
      "airbnb_Milan_2024-07-13_2024-07-14.csv\n",
      "airbnb_Munchen_2024-07-27_2024-07-28.csv\n",
      "airbnb_Oslo_2024-07-09_2024-07-10.csv\n",
      "airbnb_Prag_2024-07-27_2024-07-28.csv\n",
      "airbnb_Stockholm_2024-05-17_2024-05-20.csv\n",
      "airbnb_Warsaw_2024-08-01_2024-08-03.csv\n",
      "airbnb_Zürich_2024-07-09_2024-07-10.csv\n",
      "airbnb_Århus_2024-07-23_2024-07-24.csv\n",
      "error with Århus\n"
     ]
    }
   ],
   "source": [
    "# get path to the folder\n",
    "path = os.getcwd() + \"/Data\"\n",
    "files = os.listdir(path)\n",
    "\n",
    "city_df = pd.read_csv(\"Data/city_rankings.csv\")\n",
    "taylor_df = pd.read_excel(\"Daya/TaylorSwiftCross.xlsx\")\n",
    "\n",
    "citites_cleaned = os.listdir(os.getcwd() + \"/done\")\n",
    "citites_cleaned = [file[:-4] for file in files]\n",
    "\n",
    "cities_done = []\n",
    "for f in files:\n",
    "    #print(f.split(\"airbnb_\")[1])\n",
    "    print(f)\n",
    "    if \"airbnb\" in f:\n",
    "        city = f.split(\"airbnb_\")[1].split(\"_\")[0]\n",
    "    else:\n",
    "        continue\n",
    "    \n",
    "    if city in citites_cleaned:\n",
    "        continue\n",
    "\n",
    "    try:\n",
    "        cities_done.append(city)\n",
    "        df = pd.read_csv(\"data/\" + f)\n",
    "        df_done = dc.clean_airbnb_data(df, taylor_df, city_df)\n",
    "        df_done.to_csv(f'done/{city}.csv', index=True)\n",
    "    except:\n",
    "        print(f\"error with {city}\")\n"
   ]
  },
  {
   "cell_type": "markdown",
   "metadata": {},
   "source": [
    "## Put them all together"
   ]
  },
  {
   "cell_type": "code",
   "execution_count": 9,
   "metadata": {},
   "outputs": [],
   "source": [
    "# get path to the folder\n",
    "path = os.getcwd() + \"/Done\"\n",
    "files = os.listdir(path)\n",
    "\n",
    "cities_done = []\n",
    "df = pd.DataFrame()\n",
    "for f in files:\n",
    "    #print(f.split(\"airbnb_\")[1])\n",
    "    df_now = pd.read_csv(\"Done/\" + f, index_col=0)\n",
    "    df = pd.concat([df, df_now])\n",
    "df.reset_index(drop=True, inplace=True)\n",
    "\n",
    "df.to_csv(\"data_final.csv\")"
   ]
  },
  {
   "cell_type": "code",
   "execution_count": null,
   "metadata": {},
   "outputs": [],
   "source": []
  }
 ],
 "metadata": {
  "kernelspec": {
   "display_name": "base",
   "language": "python",
   "name": "python3"
  },
  "language_info": {
   "codemirror_mode": {
    "name": "ipython",
    "version": 3
   },
   "file_extension": ".py",
   "mimetype": "text/x-python",
   "name": "python",
   "nbconvert_exporter": "python",
   "pygments_lexer": "ipython3",
   "version": "3.9.16"
  },
  "orig_nbformat": 4
 },
 "nbformat": 4,
 "nbformat_minor": 2
}
